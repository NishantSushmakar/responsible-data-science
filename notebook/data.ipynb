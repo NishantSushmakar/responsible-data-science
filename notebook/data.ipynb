{
 "cells": [
  {
   "cell_type": "code",
   "execution_count": 135,
   "id": "79bfeb1a-44f1-43a1-8e49-3faf9def6c57",
   "metadata": {},
   "outputs": [],
   "source": [
    "import pandas as pd\n",
    "import os\n",
    "from sklearn.model_selection import StratifiedKFold, train_test_split\n"
   ]
  },
  {
   "cell_type": "code",
   "execution_count": 99,
   "id": "b3d42f26-1ded-488a-bd9f-fa0e9641e566",
   "metadata": {},
   "outputs": [],
   "source": [
    "columns = [\n",
    "    \"age\", \"workclass\", \"fnlwgt\", \"education\", \"education_num\",\n",
    "    \"marital_status\", \"occupation\", \"relationship\", \"race\", \"sex\",\n",
    "    \"capital_gain\", \"capital_loss\", \"hours_per_week\", \"native_country\", \"income\"\n",
    "]"
   ]
  },
  {
   "cell_type": "code",
   "execution_count": 101,
   "id": "c575fc18-8eed-4ab7-84de-6c6543c6399f",
   "metadata": {},
   "outputs": [],
   "source": [
    "data = pd.read_csv('./adult/adult.data', names=columns,na_values=' ?')"
   ]
  },
  {
   "cell_type": "code",
   "execution_count": 103,
   "id": "c2f889f3-6592-41cf-a80b-81edec00b87a",
   "metadata": {},
   "outputs": [
    {
     "name": "stdout",
     "output_type": "stream",
     "text": [
      "Data shape: (32561, 15)\n"
     ]
    }
   ],
   "source": [
    "print('Data shape:', data.shape)"
   ]
  },
  {
   "cell_type": "code",
   "execution_count": 105,
   "id": "d93caeb3-d6bd-4ea2-bd5a-48ec66454993",
   "metadata": {},
   "outputs": [],
   "source": [
    "X = data.drop('income', axis=1)\n",
    "y = data['income']"
   ]
  },
  {
   "cell_type": "markdown",
   "id": "2f00550d-0252-4628-9afa-2bd68e729e4b",
   "metadata": {},
   "source": [
    "stratified k-fold"
   ]
  },
  {
   "cell_type": "code",
   "execution_count": 108,
   "id": "8573ce04-8e60-423f-958a-86f1c4fa1512",
   "metadata": {},
   "outputs": [],
   "source": [
    "n_splits = 5\n",
    "skf = StratifiedKFold(n_splits=n_splits, shuffle=True, random_state=42)"
   ]
  },
  {
   "cell_type": "code",
   "execution_count": 110,
   "id": "760af415-1aab-47e7-b5ae-08f0243fdc7c",
   "metadata": {},
   "outputs": [],
   "source": [
    "train_val_index, test_index = next(skf.split(X, y))"
   ]
  },
  {
   "cell_type": "code",
   "execution_count": 112,
   "id": "de9e8299-131c-4c66-8109-0581e3d315c2",
   "metadata": {},
   "outputs": [],
   "source": [
    "X_train_val, X_test = X.iloc[train_val_index], X.iloc[test_index]\n",
    "y_train_val, y_test = y.iloc[train_val_index], y.iloc[test_index]"
   ]
  },
  {
   "cell_type": "code",
   "execution_count": 114,
   "id": "fddab70c-d1a7-4d06-84d0-04b3163c17b8",
   "metadata": {},
   "outputs": [],
   "source": [
    "inner_skf = StratifiedKFold(n_splits=4, shuffle=True, random_state=42)"
   ]
  },
  {
   "cell_type": "code",
   "execution_count": 116,
   "id": "a38b42df-94fa-43b6-a828-98177ca11261",
   "metadata": {},
   "outputs": [],
   "source": [
    "train_index, val_index = next(inner_skf.split(X_train_val, y_train_val))"
   ]
  },
  {
   "cell_type": "code",
   "execution_count": 118,
   "id": "8a2eb71b-6488-41ca-8e80-6d8c14f9d1c8",
   "metadata": {},
   "outputs": [],
   "source": [
    "X_train, X_val = X.iloc[train_index], X.iloc[val_index]\n",
    "y_train, y_val = y.iloc[train_index], y.iloc[val_index]"
   ]
  },
  {
   "cell_type": "code",
   "execution_count": 120,
   "id": "7259f368-b9f0-4cfd-84c0-61e4cac1b6d8",
   "metadata": {},
   "outputs": [
    {
     "name": "stdout",
     "output_type": "stream",
     "text": [
      "X_train shape: (19536, 14)\n",
      "y_train shape: (19536,)\n",
      "X_val shape: (6512, 14)\n",
      "y_val shape: (6512,)\n",
      "X_test shape: (6513, 14)\n",
      "y_test shape: (6513,)\n"
     ]
    }
   ],
   "source": [
    "# Verify the split\n",
    "print(\"X_train shape:\", X_train.shape)\n",
    "print(\"y_train shape:\", y_train.shape)\n",
    "print(\"X_val shape:\", X_val.shape)\n",
    "print(\"y_val shape:\", y_val.shape)\n",
    "print(\"X_test shape:\", X_test.shape)\n",
    "print(\"y_test shape:\", y_test.shape)"
   ]
  },
  {
   "cell_type": "code",
   "execution_count": 122,
   "id": "3a7a1176-a645-4d44-887d-7939754809ce",
   "metadata": {},
   "outputs": [
    {
     "name": "stdout",
     "output_type": "stream",
     "text": [
      "\n",
      "Class distribution:\n",
      "Train set distribution:\n",
      " income\n",
      " <=50K    0.761722\n",
      " >50K     0.238278\n",
      "Name: proportion, dtype: float64\n",
      "Validation set distribution:\n",
      " income\n",
      " <=50K    0.75645\n",
      " >50K     0.24355\n",
      "Name: proportion, dtype: float64\n",
      "Test set distribution:\n",
      " income\n",
      " <=50K    0.759097\n",
      " >50K     0.240903\n",
      "Name: proportion, dtype: float64\n"
     ]
    }
   ],
   "source": [
    "# Verify class distribution\n",
    "print(\"\\nClass distribution:\")\n",
    "print(\"Train set distribution:\\n\", y_train.value_counts(normalize=True))\n",
    "print(\"Validation set distribution:\\n\", y_val.value_counts(normalize=True))\n",
    "print(\"Test set distribution:\\n\", y_test.value_counts(normalize=True))"
   ]
  },
  {
   "cell_type": "code",
   "execution_count": null,
   "id": "f460e41a-993a-4fa1-af0a-a53f29070d21",
   "metadata": {},
   "outputs": [],
   "source": []
  },
  {
   "cell_type": "markdown",
   "id": "ddb79ed7-7550-4bfe-a8c3-dc6053f3977b",
   "metadata": {},
   "source": [
    "train_test_split"
   ]
  },
  {
   "cell_type": "code",
   "execution_count": 124,
   "id": "b9f73961-418c-4c7a-853b-3c38cc44be00",
   "metadata": {},
   "outputs": [],
   "source": [
    "X_train_val, X_test, y_train_val, y_test = train_test_split(X, y, test_size=0.2, random_state=42, stratify=y)\n",
    "X_train, X_val, y_train, y_val = train_test_split(X_train_val, y_train_val, test_size=0.25, random_state=42, stratify=y_train_val)"
   ]
  },
  {
   "cell_type": "code",
   "execution_count": null,
   "id": "95beda72-0635-4f60-8541-a58f1457d34d",
   "metadata": {},
   "outputs": [],
   "source": []
  },
  {
   "cell_type": "code",
   "execution_count": 127,
   "id": "65fc1b29-a75a-4948-a634-5f0215cb8d37",
   "metadata": {},
   "outputs": [
    {
     "name": "stdout",
     "output_type": "stream",
     "text": [
      "X_train shape: (19536, 14)\n",
      "y_train shape: (19536,)\n",
      "X_val shape: (6512, 14)\n",
      "y_val shape: (6512,)\n",
      "X_test shape: (6513, 14)\n",
      "y_test shape: (6513,)\n",
      "\n",
      "Class distribution:\n",
      "Train set distribution:\n",
      " income\n",
      " <=50K    0.759163\n",
      " >50K     0.240837\n",
      "Name: proportion, dtype: float64\n",
      "Validation set distribution:\n",
      " income\n",
      " <=50K    0.759214\n",
      " >50K     0.240786\n",
      "Name: proportion, dtype: float64\n",
      "Test set distribution:\n",
      " income\n",
      " <=50K    0.759251\n",
      " >50K     0.240749\n",
      "Name: proportion, dtype: float64\n"
     ]
    }
   ],
   "source": [
    "# Verify the split\n",
    "print(\"X_train shape:\", X_train.shape)\n",
    "print(\"y_train shape:\", y_train.shape)\n",
    "print(\"X_val shape:\", X_val.shape)\n",
    "print(\"y_val shape:\", y_val.shape)\n",
    "print(\"X_test shape:\", X_test.shape)\n",
    "print(\"y_test shape:\", y_test.shape)\n",
    "\n",
    "# Verify class distribution\n",
    "print(\"\\nClass distribution:\")\n",
    "print(\"Train set distribution:\\n\", y_train.value_counts(normalize=True))\n",
    "print(\"Validation set distribution:\\n\", y_val.value_counts(normalize=True))\n",
    "print(\"Test set distribution:\\n\", y_test.value_counts(normalize=True))"
   ]
  },
  {
   "cell_type": "code",
   "execution_count": null,
   "id": "198e66ca-0601-49d1-bc44-6be24a6d78b9",
   "metadata": {},
   "outputs": [],
   "source": []
  },
  {
   "cell_type": "code",
   "execution_count": 129,
   "id": "3f23aed9-ce1e-44c5-8ee8-80a8ab7ff949",
   "metadata": {},
   "outputs": [],
   "source": [
    "train_data = X_train.copy()\n",
    "train_data['income'] = y_train\n",
    "val_data = X_val.copy()\n",
    "val_data['income'] = y_val\n",
    "test_data = X_test.copy()\n",
    "test_data['income'] = y_test"
   ]
  },
  {
   "cell_type": "code",
   "execution_count": 133,
   "id": "e41f999f-5fea-4f88-b965-2bf5cfa3e88c",
   "metadata": {},
   "outputs": [
    {
     "data": {
      "text/html": [
       "<div>\n",
       "<style scoped>\n",
       "    .dataframe tbody tr th:only-of-type {\n",
       "        vertical-align: middle;\n",
       "    }\n",
       "\n",
       "    .dataframe tbody tr th {\n",
       "        vertical-align: top;\n",
       "    }\n",
       "\n",
       "    .dataframe thead th {\n",
       "        text-align: right;\n",
       "    }\n",
       "</style>\n",
       "<table border=\"1\" class=\"dataframe\">\n",
       "  <thead>\n",
       "    <tr style=\"text-align: right;\">\n",
       "      <th></th>\n",
       "      <th>age</th>\n",
       "      <th>workclass</th>\n",
       "      <th>fnlwgt</th>\n",
       "      <th>education</th>\n",
       "      <th>education_num</th>\n",
       "      <th>marital_status</th>\n",
       "      <th>occupation</th>\n",
       "      <th>relationship</th>\n",
       "      <th>race</th>\n",
       "      <th>sex</th>\n",
       "      <th>capital_gain</th>\n",
       "      <th>capital_loss</th>\n",
       "      <th>hours_per_week</th>\n",
       "      <th>native_country</th>\n",
       "      <th>income</th>\n",
       "    </tr>\n",
       "  </thead>\n",
       "  <tbody>\n",
       "    <tr>\n",
       "      <th>9009</th>\n",
       "      <td>31</td>\n",
       "      <td>Self-emp-inc</td>\n",
       "      <td>117963</td>\n",
       "      <td>Doctorate</td>\n",
       "      <td>16</td>\n",
       "      <td>Never-married</td>\n",
       "      <td>Prof-specialty</td>\n",
       "      <td>Own-child</td>\n",
       "      <td>White</td>\n",
       "      <td>Male</td>\n",
       "      <td>0</td>\n",
       "      <td>0</td>\n",
       "      <td>40</td>\n",
       "      <td>United-States</td>\n",
       "      <td>&lt;=50K</td>\n",
       "    </tr>\n",
       "    <tr>\n",
       "      <th>25134</th>\n",
       "      <td>20</td>\n",
       "      <td>NaN</td>\n",
       "      <td>201490</td>\n",
       "      <td>Some-college</td>\n",
       "      <td>10</td>\n",
       "      <td>Never-married</td>\n",
       "      <td>NaN</td>\n",
       "      <td>Own-child</td>\n",
       "      <td>White</td>\n",
       "      <td>Male</td>\n",
       "      <td>0</td>\n",
       "      <td>0</td>\n",
       "      <td>40</td>\n",
       "      <td>United-States</td>\n",
       "      <td>&lt;=50K</td>\n",
       "    </tr>\n",
       "    <tr>\n",
       "      <th>16682</th>\n",
       "      <td>78</td>\n",
       "      <td>Self-emp-inc</td>\n",
       "      <td>385242</td>\n",
       "      <td>Bachelors</td>\n",
       "      <td>13</td>\n",
       "      <td>Married-civ-spouse</td>\n",
       "      <td>Exec-managerial</td>\n",
       "      <td>Husband</td>\n",
       "      <td>White</td>\n",
       "      <td>Male</td>\n",
       "      <td>9386</td>\n",
       "      <td>0</td>\n",
       "      <td>45</td>\n",
       "      <td>United-States</td>\n",
       "      <td>&gt;50K</td>\n",
       "    </tr>\n",
       "    <tr>\n",
       "      <th>27044</th>\n",
       "      <td>32</td>\n",
       "      <td>Private</td>\n",
       "      <td>164197</td>\n",
       "      <td>Bachelors</td>\n",
       "      <td>13</td>\n",
       "      <td>Married-civ-spouse</td>\n",
       "      <td>Craft-repair</td>\n",
       "      <td>Husband</td>\n",
       "      <td>White</td>\n",
       "      <td>Male</td>\n",
       "      <td>0</td>\n",
       "      <td>0</td>\n",
       "      <td>44</td>\n",
       "      <td>United-States</td>\n",
       "      <td>&gt;50K</td>\n",
       "    </tr>\n",
       "    <tr>\n",
       "      <th>3302</th>\n",
       "      <td>61</td>\n",
       "      <td>Private</td>\n",
       "      <td>92691</td>\n",
       "      <td>HS-grad</td>\n",
       "      <td>9</td>\n",
       "      <td>Married-civ-spouse</td>\n",
       "      <td>Adm-clerical</td>\n",
       "      <td>Husband</td>\n",
       "      <td>White</td>\n",
       "      <td>Male</td>\n",
       "      <td>0</td>\n",
       "      <td>0</td>\n",
       "      <td>3</td>\n",
       "      <td>United-States</td>\n",
       "      <td>&lt;=50K</td>\n",
       "    </tr>\n",
       "    <tr>\n",
       "      <th>...</th>\n",
       "      <td>...</td>\n",
       "      <td>...</td>\n",
       "      <td>...</td>\n",
       "      <td>...</td>\n",
       "      <td>...</td>\n",
       "      <td>...</td>\n",
       "      <td>...</td>\n",
       "      <td>...</td>\n",
       "      <td>...</td>\n",
       "      <td>...</td>\n",
       "      <td>...</td>\n",
       "      <td>...</td>\n",
       "      <td>...</td>\n",
       "      <td>...</td>\n",
       "      <td>...</td>\n",
       "    </tr>\n",
       "    <tr>\n",
       "      <th>11814</th>\n",
       "      <td>42</td>\n",
       "      <td>Self-emp-not-inc</td>\n",
       "      <td>32185</td>\n",
       "      <td>Bachelors</td>\n",
       "      <td>13</td>\n",
       "      <td>Married-civ-spouse</td>\n",
       "      <td>Farming-fishing</td>\n",
       "      <td>Husband</td>\n",
       "      <td>White</td>\n",
       "      <td>Male</td>\n",
       "      <td>0</td>\n",
       "      <td>0</td>\n",
       "      <td>60</td>\n",
       "      <td>United-States</td>\n",
       "      <td>&gt;50K</td>\n",
       "    </tr>\n",
       "    <tr>\n",
       "      <th>27934</th>\n",
       "      <td>34</td>\n",
       "      <td>Private</td>\n",
       "      <td>180714</td>\n",
       "      <td>Some-college</td>\n",
       "      <td>10</td>\n",
       "      <td>Married-civ-spouse</td>\n",
       "      <td>Transport-moving</td>\n",
       "      <td>Husband</td>\n",
       "      <td>Black</td>\n",
       "      <td>Male</td>\n",
       "      <td>0</td>\n",
       "      <td>2179</td>\n",
       "      <td>40</td>\n",
       "      <td>United-States</td>\n",
       "      <td>&lt;=50K</td>\n",
       "    </tr>\n",
       "    <tr>\n",
       "      <th>6890</th>\n",
       "      <td>39</td>\n",
       "      <td>Private</td>\n",
       "      <td>202027</td>\n",
       "      <td>Prof-school</td>\n",
       "      <td>15</td>\n",
       "      <td>Married-civ-spouse</td>\n",
       "      <td>Prof-specialty</td>\n",
       "      <td>Husband</td>\n",
       "      <td>White</td>\n",
       "      <td>Male</td>\n",
       "      <td>0</td>\n",
       "      <td>0</td>\n",
       "      <td>45</td>\n",
       "      <td>United-States</td>\n",
       "      <td>&gt;50K</td>\n",
       "    </tr>\n",
       "    <tr>\n",
       "      <th>32529</th>\n",
       "      <td>29</td>\n",
       "      <td>Private</td>\n",
       "      <td>125976</td>\n",
       "      <td>HS-grad</td>\n",
       "      <td>9</td>\n",
       "      <td>Separated</td>\n",
       "      <td>Sales</td>\n",
       "      <td>Unmarried</td>\n",
       "      <td>White</td>\n",
       "      <td>Female</td>\n",
       "      <td>0</td>\n",
       "      <td>0</td>\n",
       "      <td>35</td>\n",
       "      <td>United-States</td>\n",
       "      <td>&lt;=50K</td>\n",
       "    </tr>\n",
       "    <tr>\n",
       "      <th>18518</th>\n",
       "      <td>19</td>\n",
       "      <td>Private</td>\n",
       "      <td>372483</td>\n",
       "      <td>Some-college</td>\n",
       "      <td>10</td>\n",
       "      <td>Never-married</td>\n",
       "      <td>Other-service</td>\n",
       "      <td>Other-relative</td>\n",
       "      <td>Black</td>\n",
       "      <td>Male</td>\n",
       "      <td>0</td>\n",
       "      <td>0</td>\n",
       "      <td>35</td>\n",
       "      <td>United-States</td>\n",
       "      <td>&lt;=50K</td>\n",
       "    </tr>\n",
       "  </tbody>\n",
       "</table>\n",
       "<p>6513 rows × 15 columns</p>\n",
       "</div>"
      ],
      "text/plain": [
       "       age          workclass  fnlwgt      education  education_num  \\\n",
       "9009    31       Self-emp-inc  117963      Doctorate             16   \n",
       "25134   20                NaN  201490   Some-college             10   \n",
       "16682   78       Self-emp-inc  385242      Bachelors             13   \n",
       "27044   32            Private  164197      Bachelors             13   \n",
       "3302    61            Private   92691        HS-grad              9   \n",
       "...    ...                ...     ...            ...            ...   \n",
       "11814   42   Self-emp-not-inc   32185      Bachelors             13   \n",
       "27934   34            Private  180714   Some-college             10   \n",
       "6890    39            Private  202027    Prof-school             15   \n",
       "32529   29            Private  125976        HS-grad              9   \n",
       "18518   19            Private  372483   Some-college             10   \n",
       "\n",
       "            marital_status         occupation     relationship    race  \\\n",
       "9009         Never-married     Prof-specialty        Own-child   White   \n",
       "25134        Never-married                NaN        Own-child   White   \n",
       "16682   Married-civ-spouse    Exec-managerial          Husband   White   \n",
       "27044   Married-civ-spouse       Craft-repair          Husband   White   \n",
       "3302    Married-civ-spouse       Adm-clerical          Husband   White   \n",
       "...                    ...                ...              ...     ...   \n",
       "11814   Married-civ-spouse    Farming-fishing          Husband   White   \n",
       "27934   Married-civ-spouse   Transport-moving          Husband   Black   \n",
       "6890    Married-civ-spouse     Prof-specialty          Husband   White   \n",
       "32529            Separated              Sales        Unmarried   White   \n",
       "18518        Never-married      Other-service   Other-relative   Black   \n",
       "\n",
       "           sex  capital_gain  capital_loss  hours_per_week  native_country  \\\n",
       "9009      Male             0             0              40   United-States   \n",
       "25134     Male             0             0              40   United-States   \n",
       "16682     Male          9386             0              45   United-States   \n",
       "27044     Male             0             0              44   United-States   \n",
       "3302      Male             0             0               3   United-States   \n",
       "...        ...           ...           ...             ...             ...   \n",
       "11814     Male             0             0              60   United-States   \n",
       "27934     Male             0          2179              40   United-States   \n",
       "6890      Male             0             0              45   United-States   \n",
       "32529   Female             0             0              35   United-States   \n",
       "18518     Male             0             0              35   United-States   \n",
       "\n",
       "       income  \n",
       "9009    <=50K  \n",
       "25134   <=50K  \n",
       "16682    >50K  \n",
       "27044    >50K  \n",
       "3302    <=50K  \n",
       "...       ...  \n",
       "11814    >50K  \n",
       "27934   <=50K  \n",
       "6890     >50K  \n",
       "32529   <=50K  \n",
       "18518   <=50K  \n",
       "\n",
       "[6513 rows x 15 columns]"
      ]
     },
     "execution_count": 133,
     "metadata": {},
     "output_type": "execute_result"
    }
   ],
   "source": [
    "test_data"
   ]
  },
  {
   "cell_type": "code",
   "execution_count": 137,
   "id": "fa1341de-adca-43a5-bdad-cb7934b0a437",
   "metadata": {},
   "outputs": [],
   "source": [
    "os.makedirs(\"splitted_data\", exist_ok=True)\n",
    "train_data.to_csv(\"./splitted_data/train_data.csv\", index=False)\n",
    "val_data.to_csv(\"./splitted_data/validation_data.csv\", index=False)\n",
    "test_data.to_csv(\"./splitted_data/test_data.csv\", index=False)"
   ]
  },
  {
   "cell_type": "code",
   "execution_count": null,
   "id": "10c4a9f4-6dd1-4e1a-afc9-739a05a60cb9",
   "metadata": {},
   "outputs": [],
   "source": []
  }
 ],
 "metadata": {
  "kernelspec": {
   "display_name": "Python (newenv)",
   "language": "python",
   "name": "newenv"
  },
  "language_info": {
   "codemirror_mode": {
    "name": "ipython",
    "version": 3
   },
   "file_extension": ".py",
   "mimetype": "text/x-python",
   "name": "python",
   "nbconvert_exporter": "python",
   "pygments_lexer": "ipython3",
   "version": "3.9.20"
  }
 },
 "nbformat": 4,
 "nbformat_minor": 5
}
